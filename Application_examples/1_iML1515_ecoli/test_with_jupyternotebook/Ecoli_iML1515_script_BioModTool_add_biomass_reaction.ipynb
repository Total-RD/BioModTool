{
 "cells": [
  {
   "cell_type": "markdown",
   "metadata": {},
   "source": [
    "# BioModTool validation: iML1515 GEM"
   ]
  },
  {
   "cell_type": "markdown",
   "metadata": {},
   "source": [
    "- Cobra model: iML1515 (E. coli)\n",
    "    \n",
    "- Biomass composition data from Beck et al., 2018"
   ]
  },
  {
   "cell_type": "code",
   "execution_count": 1,
   "metadata": {},
   "outputs": [],
   "source": [
    "from cobra.flux_analysis.parsimonious import pfba as pfba_cobra\n",
    "\n",
    "import BioModTool.load\n",
    "import BioModTool.main_add_biomass_objective_function\n",
    "import BioModTool.test\n",
    "import BioModTool.save"
   ]
  },
  {
   "cell_type": "markdown",
   "metadata": {},
   "source": [
    "### 1 - Load Genome Scale Metabolic Model"
   ]
  },
  {
   "cell_type": "markdown",
   "metadata": {},
   "source": [
    "##### 1.a) Model directory"
   ]
  },
  {
   "cell_type": "markdown",
   "metadata": {},
   "source": [
    "GEM model must be given as a json or sbml/xml file."
   ]
  },
  {
   "cell_type": "code",
   "execution_count": 2,
   "metadata": {},
   "outputs": [],
   "source": [
    "path_to_model = \"..\\\\iML1515.xml\""
   ]
  },
  {
   "cell_type": "code",
   "execution_count": 3,
   "metadata": {},
   "outputs": [],
   "source": [
    "original_model = BioModTool.load.load_cobra_model(path_to_model)"
   ]
  },
  {
   "cell_type": "code",
   "execution_count": 4,
   "metadata": {},
   "outputs": [
    {
     "data": {
      "text/html": [
       "\n",
       "        <table>\n",
       "            <tr>\n",
       "                <td><strong>Name</strong></td>\n",
       "                <td>iML1515</td>\n",
       "            </tr><tr>\n",
       "                <td><strong>Memory address</strong></td>\n",
       "                <td>26306ff1a90</td>\n",
       "            </tr><tr>\n",
       "                <td><strong>Number of metabolites</strong></td>\n",
       "                <td>1877</td>\n",
       "            </tr><tr>\n",
       "                <td><strong>Number of reactions</strong></td>\n",
       "                <td>2712</td>\n",
       "            </tr><tr>\n",
       "                <td><strong>Number of genes</strong></td>\n",
       "                <td>1516</td>\n",
       "            </tr><tr>\n",
       "                <td><strong>Number of groups</strong></td>\n",
       "                <td>0</td>\n",
       "            </tr><tr>\n",
       "                <td><strong>Objective expression</strong></td>\n",
       "                <td>1.0*BIOMASS_Ec_iML1515_core_75p37M - 1.0*BIOMASS_Ec_iML1515_core_75p37M_reverse_35685</td>\n",
       "            </tr><tr>\n",
       "                <td><strong>Compartments</strong></td>\n",
       "                <td>cytosol, extracellular space, periplasm</td>\n",
       "            </tr>\n",
       "          </table>"
      ],
      "text/plain": [
       "<Model iML1515 at 0x26306ff1a90>"
      ]
     },
     "execution_count": 4,
     "metadata": {},
     "output_type": "execute_result"
    }
   ],
   "source": [
    "original_model"
   ]
  },
  {
   "cell_type": "markdown",
   "metadata": {},
   "source": [
    "##### 1.b) Calculate formula and/or charge ?"
   ]
  },
  {
   "cell_type": "markdown",
   "metadata": {},
   "source": [
    "<div class=\"alert alert-block alert-danger\">\n",
    "<b> /!\\ Note that if you select formula = False, the molecular weight cannot be calculated from the metabolite formula preventing unit conversion.\n",
    "    \n",
    "- Level 1 data must be given in mmol.gDW-1.\n",
    "\n",
    "- Levels 2 and 3 data must be given in mol per ...  \n",
    "    \n",
    "</div>"
   ]
  },
  {
   "cell_type": "code",
   "execution_count": 5,
   "metadata": {},
   "outputs": [],
   "source": [
    "calculate_formula = True\n",
    "calculate_charge = True"
   ]
  },
  {
   "cell_type": "markdown",
   "metadata": {},
   "source": [
    "##### 1.c) Choose a compartment to add biomass reactions"
   ]
  },
  {
   "cell_type": "markdown",
   "metadata": {},
   "source": [
    "•\tReactions and pseudo metabolites will be added in compartment given by the user. \n",
    "\n",
    "•\tCompartment must be chosen among model's compartment (key of cobra_model.compartments dictionary).\n",
    "\n",
    "•\tBiomass reactions are commonly added in cytoplasm (\"c\").\n"
   ]
  },
  {
   "cell_type": "code",
   "execution_count": 6,
   "metadata": {},
   "outputs": [
    {
     "data": {
      "text/plain": [
       "{'c': 'cytosol', 'e': 'extracellular space', 'p': 'periplasm'}"
      ]
     },
     "execution_count": 6,
     "metadata": {},
     "output_type": "execute_result"
    }
   ],
   "source": [
    "# Compartments in model:\n",
    "original_model.compartments"
   ]
  },
  {
   "cell_type": "code",
   "execution_count": 7,
   "metadata": {},
   "outputs": [],
   "source": [
    "BOF_compartment = \"c\""
   ]
  },
  {
   "cell_type": "markdown",
   "metadata": {},
   "source": [
    "### 2 – Biomass composition data"
   ]
  },
  {
   "cell_type": "markdown",
   "metadata": {},
   "source": [
    "##### 2.a) Define data file"
   ]
  },
  {
   "cell_type": "markdown",
   "metadata": {},
   "source": [
    "Data must be given in an Excel file with a specific format. \n",
    "See data_template_3_levels.xlsx, data_template_2_levels.xlsx and data_template_1_level.xlsx"
   ]
  },
  {
   "cell_type": "code",
   "execution_count": 8,
   "metadata": {},
   "outputs": [],
   "source": [
    "path_to_data = \"..\\\\Biomass_composition_iML1515_beck2018.xlsx\""
   ]
  },
  {
   "cell_type": "markdown",
   "metadata": {},
   "source": [
    "### 3 – Structure of biomass objective function"
   ]
  },
  {
   "cell_type": "markdown",
   "metadata": {},
   "source": [
    "##### 3.a) Biomass reaction structure"
   ]
  },
  {
   "cell_type": "markdown",
   "metadata": {},
   "source": [
    "###### Dictionary defining BOF structure:\n",
    "\n",
    "Must be defined in accordance with Excel data file (sheet names).\n",
    "\n",
    "- Mandatory :\n",
    "     - one and only one key with value = \"level_1\"\n",
    "- Optional:\n",
    "    - if desired structure contains two or more levels:\n",
    "        - one or several key(s) with value = \"level_2\"\n",
    "     - if desired structure contains three levels:\n",
    "         - one and only one key with value = \"level_2_lipid\"\n",
    "         - one or several key(s) with value = \"level_2\""
   ]
  },
  {
   "cell_type": "code",
   "execution_count": 9,
   "metadata": {},
   "outputs": [],
   "source": [
    "dict_structure_BOF = {'POLYSACCHARIDES': 'level_2',\n",
    " 'DNA': 'level_2',\n",
    " 'RNA': 'level_2',\n",
    " 'PROTEINS': 'level_2',\n",
    " 'LIPIDS': 'level_2_lipid',\n",
    " 'PG': \"level_3\",\n",
    " 'PE': \"level_3\",\n",
    " 'CLPN': \"level_3\",\n",
    " 'BIOMASS': 'level_1'}"
   ]
  },
  {
   "cell_type": "markdown",
   "metadata": {},
   "source": [
    "##### 3.b) Choose a suffix"
   ]
  },
  {
   "cell_type": "markdown",
   "metadata": {},
   "source": [
    "- Expected suffix: string containing only alphanumeric characters or _\n",
    "\n",
    "- Test performed in BioModTool: re.match(\"^[a-zA-Z0-9_]*$\",suffix)\n",
    "\n",
    "\n",
    "All added reactions and pseudo-metabolites will contain the following tag: biomass_suffix_c."
   ]
  },
  {
   "cell_type": "code",
   "execution_count": 10,
   "metadata": {},
   "outputs": [],
   "source": [
    "suffix = \"BioModTool_beck2018\""
   ]
  },
  {
   "cell_type": "markdown",
   "metadata": {},
   "source": [
    "### 4 – Create and add the new biomass objective function"
   ]
  },
  {
   "cell_type": "code",
   "execution_count": 11,
   "metadata": {},
   "outputs": [
    {
     "name": "stdout",
     "output_type": "stream",
     "text": [
      "Metabolite POLYSACCHARIDES_BioModTool_beck2018_c (formula: C6.0H10.0O5.0, charge: 0) added to model. \n",
      "Reaction POLYSACCHARIDES_BioModTool_beck2018_c added to model. \n",
      "atp_c + g1p_c --> POLYSACCHARIDES_BioModTool_beck2018_c + adp_c + ppi_c\n",
      "---------------------------------------------------------------------------------------------------------------------\n",
      "Metabolite DNA_BioModTool_beck2018_c (formula: C9.746H11.246O6.0N3.754P1.0, charge: -1) added to model. \n",
      "Reaction DNA_BioModTool_beck2018_c added to model. \n",
      "0.246 datp_c + 0.254 dctp_c + 0.254 dgtp_c + 0.246 dttp_c --> DNA_BioModTool_beck2018_c + ppi_c\n",
      "---------------------------------------------------------------------------------------------------------------------\n",
      "Metabolite RNA_BioModTool_beck2018_c (formula: C9.427660000000001H10.74287O7.05425N3.5984599999999998P0.9999699999999998, charge: -1) added to model. \n",
      "Reaction RNA_BioModTool_beck2018_c added to model. \n",
      "0.20262 atp_c + 0.31523 ctp_c + 0.22513 gtp_c + 0.25701 utp_c --> RNA_BioModTool_beck2018_c + ppi_c\n",
      "---------------------------------------------------------------------------------------------------------------------\n",
      "original NEGATIVE pool formula : -4.440892098500626e-16 . Coefficient rounded to 0.\n",
      "Metabolite PROTEINS_BioModTool_beck2018_c (formula: C4.803270000000001H7.514440000000008O1.4656599999999944N1.3476400000000002S0.03992, charge: 0) added to model. \n",
      "Reaction PROTEINS_BioModTool_beck2018_c added to model. \n",
      "0.1008 ala__L_c + 0.0499 arg__L_c + 0.04108 asn__L_c + 0.05373 asp__L_c + atp_c + 0.01198 cys__L_c + 0.05209 gln__L_c + 0.06867 glu__L_c + 0.10878 gly_c + 1.98 gtp_c + 1.9780000000000002 h2o_c + 0.01597 his__L_c + 0.0479 ile__L_c + 0.07186 leu__L_c + 0.05788 lys__L_c + 0.02794 met__L_c + 0.03892 phe__L_c + 0.03992 pro__L_c + 0.0489 ser__L_c + 0.05289 thr__L_c + 0.01497 trp__L_c + 0.02794 tyr__L_c + 0.06786 val__L_c --> PROTEINS_BioModTool_beck2018_c + amp_c + 1.98 gdp_c + 2.98 h_c + 1.98 pi_c + ppi_c\n",
      "---------------------------------------------------------------------------------------------------------------------\n",
      "Metabolite PG_BioModTool_beck2018_c (formula: C38.9897H74.6725O9.9999P0.9999899999999999, charge: -1) added to model. \n",
      "Reaction PG_BioModTool_beck2018_c added to model. \n",
      "0.42574 pg160_p + 0.32673 pg161_p + 0.24752 pg180_p --> PG_BioModTool_beck2018_c\n",
      "---------------------------------------------------------------------------------------------------------------------\n",
      "Metabolite PE_BioModTool_beck2018_c (formula: C37.98971H74.6725O7.9999199999999995N0.9999899999999999P0.9999899999999999, charge: 0) added to model. \n",
      "Reaction PE_BioModTool_beck2018_c added to model. \n",
      "0.42574 pe160_p + 0.32673 pe161_p + 0.24752 pe180_p --> PE_BioModTool_beck2018_c\n",
      "---------------------------------------------------------------------------------------------------------------------\n",
      "Metabolite CLPN_BioModTool_beck2018_c (formula: C74.97943000000001H141.34508O16.999830000000003P1.9999799999999999, charge: -2) added to model. \n",
      "Reaction CLPN_BioModTool_beck2018_c added to model. \n",
      "0.42574 clpn160_p + 0.32673 clpn161_p + 0.24752 clpn180_p --> CLPN_BioModTool_beck2018_c\n",
      "---------------------------------------------------------------------------------------------------------------------\n",
      "Metabolite LIPIDS_BioModTool_beck2018_c (formula: C40.060593677700005H78.07413503160001O8.8264317348N0.7653023469P1.0510094898, charge: 0) added to model. \n",
      "Reaction LIPIDS_BioModTool_beck2018_c added to model. \n",
      "0.05102 CLPN_BioModTool_beck2018_c + 0.76531 PE_BioModTool_beck2018_c + 0.18367 PG_BioModTool_beck2018_c --> LIPIDS_BioModTool_beck2018_c\n",
      "---------------------------------------------------------------------------------------------------------------------\n",
      "Metabolite BIOMASS_BioModTool_beck2018_c (formula: C40.59259727004123H62.339155478773726O16.850976170654622N10.09717316334253P1.037995606777102S0.2007301352, charge: -1) added to model. \n",
      "Reaction BIOMASS_BioModTool_beck2018_c added to model. \n",
      "0.0505 DNA_BioModTool_beck2018_c + 0.13999 LIPIDS_BioModTool_beck2018_c + 0.40285 POLYSACCHARIDES_BioModTool_beck2018_c + 5.02831 PROTEINS_BioModTool_beck2018_c + 0.84039 RNA_BioModTool_beck2018_c --> BIOMASS_BioModTool_beck2018_c\n",
      "---------------------------------------------------------------------------------------------------------------------\n"
     ]
    },
    {
     "name": "stderr",
     "output_type": "stream",
     "text": [
      "C:\\Local\\Programmes\\Anaconda3\\envs\\20240219_BioModTool_conda_env\\Lib\\site-packages\\cobra\\core\\metabolite.py:146: UserWarning: 37.98971 is not an integer (in formula C37.98971H74.6725O7.9999199999999995N0.9999899999999999P0.9999899999999999)\n",
      "  warn(f\"{count} is not an integer (in formula {self.formula})\")\n",
      "C:\\Local\\Programmes\\Anaconda3\\envs\\20240219_BioModTool_conda_env\\Lib\\site-packages\\cobra\\core\\metabolite.py:146: UserWarning: 74.6725 is not an integer (in formula C37.98971H74.6725O7.9999199999999995N0.9999899999999999P0.9999899999999999)\n",
      "  warn(f\"{count} is not an integer (in formula {self.formula})\")\n",
      "C:\\Local\\Programmes\\Anaconda3\\envs\\20240219_BioModTool_conda_env\\Lib\\site-packages\\cobra\\core\\metabolite.py:146: UserWarning: 7.9999199999999995 is not an integer (in formula C37.98971H74.6725O7.9999199999999995N0.9999899999999999P0.9999899999999999)\n",
      "  warn(f\"{count} is not an integer (in formula {self.formula})\")\n",
      "C:\\Local\\Programmes\\Anaconda3\\envs\\20240219_BioModTool_conda_env\\Lib\\site-packages\\cobra\\core\\metabolite.py:146: UserWarning: 0.9999899999999999 is not an integer (in formula C37.98971H74.6725O7.9999199999999995N0.9999899999999999P0.9999899999999999)\n",
      "  warn(f\"{count} is not an integer (in formula {self.formula})\")\n",
      "C:\\Local\\Programmes\\Anaconda3\\envs\\20240219_BioModTool_conda_env\\Lib\\site-packages\\cobra\\core\\metabolite.py:146: UserWarning: 38.9897 is not an integer (in formula C38.9897H74.6725O9.9999P0.9999899999999999)\n",
      "  warn(f\"{count} is not an integer (in formula {self.formula})\")\n",
      "C:\\Local\\Programmes\\Anaconda3\\envs\\20240219_BioModTool_conda_env\\Lib\\site-packages\\cobra\\core\\metabolite.py:146: UserWarning: 74.6725 is not an integer (in formula C38.9897H74.6725O9.9999P0.9999899999999999)\n",
      "  warn(f\"{count} is not an integer (in formula {self.formula})\")\n",
      "C:\\Local\\Programmes\\Anaconda3\\envs\\20240219_BioModTool_conda_env\\Lib\\site-packages\\cobra\\core\\metabolite.py:146: UserWarning: 9.9999 is not an integer (in formula C38.9897H74.6725O9.9999P0.9999899999999999)\n",
      "  warn(f\"{count} is not an integer (in formula {self.formula})\")\n",
      "C:\\Local\\Programmes\\Anaconda3\\envs\\20240219_BioModTool_conda_env\\Lib\\site-packages\\cobra\\core\\metabolite.py:146: UserWarning: 0.9999899999999999 is not an integer (in formula C38.9897H74.6725O9.9999P0.9999899999999999)\n",
      "  warn(f\"{count} is not an integer (in formula {self.formula})\")\n",
      "C:\\Local\\Programmes\\Anaconda3\\envs\\20240219_BioModTool_conda_env\\Lib\\site-packages\\cobra\\core\\metabolite.py:146: UserWarning: 74.97943000000001 is not an integer (in formula C74.97943000000001H141.34508O16.999830000000003P1.9999799999999999)\n",
      "  warn(f\"{count} is not an integer (in formula {self.formula})\")\n",
      "C:\\Local\\Programmes\\Anaconda3\\envs\\20240219_BioModTool_conda_env\\Lib\\site-packages\\cobra\\core\\metabolite.py:146: UserWarning: 141.34508 is not an integer (in formula C74.97943000000001H141.34508O16.999830000000003P1.9999799999999999)\n",
      "  warn(f\"{count} is not an integer (in formula {self.formula})\")\n",
      "C:\\Local\\Programmes\\Anaconda3\\envs\\20240219_BioModTool_conda_env\\Lib\\site-packages\\cobra\\core\\metabolite.py:146: UserWarning: 16.999830000000003 is not an integer (in formula C74.97943000000001H141.34508O16.999830000000003P1.9999799999999999)\n",
      "  warn(f\"{count} is not an integer (in formula {self.formula})\")\n",
      "C:\\Local\\Programmes\\Anaconda3\\envs\\20240219_BioModTool_conda_env\\Lib\\site-packages\\cobra\\core\\metabolite.py:146: UserWarning: 1.9999799999999999 is not an integer (in formula C74.97943000000001H141.34508O16.999830000000003P1.9999799999999999)\n",
      "  warn(f\"{count} is not an integer (in formula {self.formula})\")\n",
      "C:\\Local\\Programmes\\Anaconda3\\envs\\20240219_BioModTool_conda_env\\Lib\\site-packages\\cobra\\core\\metabolite.py:146: UserWarning: 9.746 is not an integer (in formula C9.746H11.246O6.0N3.754P1.0)\n",
      "  warn(f\"{count} is not an integer (in formula {self.formula})\")\n",
      "C:\\Local\\Programmes\\Anaconda3\\envs\\20240219_BioModTool_conda_env\\Lib\\site-packages\\cobra\\core\\metabolite.py:146: UserWarning: 11.246 is not an integer (in formula C9.746H11.246O6.0N3.754P1.0)\n",
      "  warn(f\"{count} is not an integer (in formula {self.formula})\")\n",
      "C:\\Local\\Programmes\\Anaconda3\\envs\\20240219_BioModTool_conda_env\\Lib\\site-packages\\cobra\\core\\metabolite.py:146: UserWarning: 3.754 is not an integer (in formula C9.746H11.246O6.0N3.754P1.0)\n",
      "  warn(f\"{count} is not an integer (in formula {self.formula})\")\n",
      "C:\\Local\\Programmes\\Anaconda3\\envs\\20240219_BioModTool_conda_env\\Lib\\site-packages\\cobra\\core\\metabolite.py:146: UserWarning: 9.427660000000001 is not an integer (in formula C9.427660000000001H10.74287O7.05425N3.5984599999999998P0.9999699999999998)\n",
      "  warn(f\"{count} is not an integer (in formula {self.formula})\")\n",
      "C:\\Local\\Programmes\\Anaconda3\\envs\\20240219_BioModTool_conda_env\\Lib\\site-packages\\cobra\\core\\metabolite.py:146: UserWarning: 10.74287 is not an integer (in formula C9.427660000000001H10.74287O7.05425N3.5984599999999998P0.9999699999999998)\n",
      "  warn(f\"{count} is not an integer (in formula {self.formula})\")\n",
      "C:\\Local\\Programmes\\Anaconda3\\envs\\20240219_BioModTool_conda_env\\Lib\\site-packages\\cobra\\core\\metabolite.py:146: UserWarning: 7.05425 is not an integer (in formula C9.427660000000001H10.74287O7.05425N3.5984599999999998P0.9999699999999998)\n",
      "  warn(f\"{count} is not an integer (in formula {self.formula})\")\n",
      "C:\\Local\\Programmes\\Anaconda3\\envs\\20240219_BioModTool_conda_env\\Lib\\site-packages\\cobra\\core\\metabolite.py:146: UserWarning: 3.5984599999999998 is not an integer (in formula C9.427660000000001H10.74287O7.05425N3.5984599999999998P0.9999699999999998)\n",
      "  warn(f\"{count} is not an integer (in formula {self.formula})\")\n",
      "C:\\Local\\Programmes\\Anaconda3\\envs\\20240219_BioModTool_conda_env\\Lib\\site-packages\\cobra\\core\\metabolite.py:146: UserWarning: 0.9999699999999998 is not an integer (in formula C9.427660000000001H10.74287O7.05425N3.5984599999999998P0.9999699999999998)\n",
      "  warn(f\"{count} is not an integer (in formula {self.formula})\")\n",
      "C:\\Local\\Programmes\\Anaconda3\\envs\\20240219_BioModTool_conda_env\\Lib\\site-packages\\cobra\\core\\metabolite.py:146: UserWarning: 4.803270000000001 is not an integer (in formula C4.803270000000001H7.514440000000008O1.4656599999999944N1.3476400000000002S0.03992)\n",
      "  warn(f\"{count} is not an integer (in formula {self.formula})\")\n",
      "C:\\Local\\Programmes\\Anaconda3\\envs\\20240219_BioModTool_conda_env\\Lib\\site-packages\\cobra\\core\\metabolite.py:146: UserWarning: 7.514440000000008 is not an integer (in formula C4.803270000000001H7.514440000000008O1.4656599999999944N1.3476400000000002S0.03992)\n",
      "  warn(f\"{count} is not an integer (in formula {self.formula})\")\n",
      "C:\\Local\\Programmes\\Anaconda3\\envs\\20240219_BioModTool_conda_env\\Lib\\site-packages\\cobra\\core\\metabolite.py:146: UserWarning: 1.4656599999999944 is not an integer (in formula C4.803270000000001H7.514440000000008O1.4656599999999944N1.3476400000000002S0.03992)\n",
      "  warn(f\"{count} is not an integer (in formula {self.formula})\")\n",
      "C:\\Local\\Programmes\\Anaconda3\\envs\\20240219_BioModTool_conda_env\\Lib\\site-packages\\cobra\\core\\metabolite.py:146: UserWarning: 1.3476400000000002 is not an integer (in formula C4.803270000000001H7.514440000000008O1.4656599999999944N1.3476400000000002S0.03992)\n",
      "  warn(f\"{count} is not an integer (in formula {self.formula})\")\n",
      "C:\\Local\\Programmes\\Anaconda3\\envs\\20240219_BioModTool_conda_env\\Lib\\site-packages\\cobra\\core\\metabolite.py:146: UserWarning: 0.03992 is not an integer (in formula C4.803270000000001H7.514440000000008O1.4656599999999944N1.3476400000000002S0.03992)\n",
      "  warn(f\"{count} is not an integer (in formula {self.formula})\")\n",
      "C:\\Local\\Programmes\\Anaconda3\\envs\\20240219_BioModTool_conda_env\\Lib\\site-packages\\cobra\\core\\metabolite.py:146: UserWarning: 40.060593677700005 is not an integer (in formula C40.060593677700005H78.07413503160001O8.8264317348N0.7653023469P1.0510094898)\n",
      "  warn(f\"{count} is not an integer (in formula {self.formula})\")\n",
      "C:\\Local\\Programmes\\Anaconda3\\envs\\20240219_BioModTool_conda_env\\Lib\\site-packages\\cobra\\core\\metabolite.py:146: UserWarning: 78.07413503160001 is not an integer (in formula C40.060593677700005H78.07413503160001O8.8264317348N0.7653023469P1.0510094898)\n",
      "  warn(f\"{count} is not an integer (in formula {self.formula})\")\n",
      "C:\\Local\\Programmes\\Anaconda3\\envs\\20240219_BioModTool_conda_env\\Lib\\site-packages\\cobra\\core\\metabolite.py:146: UserWarning: 8.8264317348 is not an integer (in formula C40.060593677700005H78.07413503160001O8.8264317348N0.7653023469P1.0510094898)\n",
      "  warn(f\"{count} is not an integer (in formula {self.formula})\")\n",
      "C:\\Local\\Programmes\\Anaconda3\\envs\\20240219_BioModTool_conda_env\\Lib\\site-packages\\cobra\\core\\metabolite.py:146: UserWarning: 0.7653023469 is not an integer (in formula C40.060593677700005H78.07413503160001O8.8264317348N0.7653023469P1.0510094898)\n",
      "  warn(f\"{count} is not an integer (in formula {self.formula})\")\n",
      "C:\\Local\\Programmes\\Anaconda3\\envs\\20240219_BioModTool_conda_env\\Lib\\site-packages\\cobra\\core\\metabolite.py:146: UserWarning: 1.0510094898 is not an integer (in formula C40.060593677700005H78.07413503160001O8.8264317348N0.7653023469P1.0510094898)\n",
      "  warn(f\"{count} is not an integer (in formula {self.formula})\")\n",
      "C:\\Local\\Programmes\\Anaconda3\\envs\\20240219_BioModTool_conda_env\\Lib\\site-packages\\cobra\\core\\metabolite.py:146: UserWarning: 9.746 is not an integer (in formula C9.746H11.246O6.0N3.754P1.0)\n",
      "  warn(f\"{count} is not an integer (in formula {self.formula})\")\n",
      "C:\\Local\\Programmes\\Anaconda3\\envs\\20240219_BioModTool_conda_env\\Lib\\site-packages\\cobra\\core\\metabolite.py:146: UserWarning: 11.246 is not an integer (in formula C9.746H11.246O6.0N3.754P1.0)\n",
      "  warn(f\"{count} is not an integer (in formula {self.formula})\")\n",
      "C:\\Local\\Programmes\\Anaconda3\\envs\\20240219_BioModTool_conda_env\\Lib\\site-packages\\cobra\\core\\metabolite.py:146: UserWarning: 3.754 is not an integer (in formula C9.746H11.246O6.0N3.754P1.0)\n",
      "  warn(f\"{count} is not an integer (in formula {self.formula})\")\n",
      "C:\\Local\\Programmes\\Anaconda3\\envs\\20240219_BioModTool_conda_env\\Lib\\site-packages\\cobra\\core\\metabolite.py:146: UserWarning: 9.427660000000001 is not an integer (in formula C9.427660000000001H10.74287O7.05425N3.5984599999999998P0.9999699999999998)\n",
      "  warn(f\"{count} is not an integer (in formula {self.formula})\")\n",
      "C:\\Local\\Programmes\\Anaconda3\\envs\\20240219_BioModTool_conda_env\\Lib\\site-packages\\cobra\\core\\metabolite.py:146: UserWarning: 10.74287 is not an integer (in formula C9.427660000000001H10.74287O7.05425N3.5984599999999998P0.9999699999999998)\n",
      "  warn(f\"{count} is not an integer (in formula {self.formula})\")\n",
      "C:\\Local\\Programmes\\Anaconda3\\envs\\20240219_BioModTool_conda_env\\Lib\\site-packages\\cobra\\core\\metabolite.py:146: UserWarning: 7.05425 is not an integer (in formula C9.427660000000001H10.74287O7.05425N3.5984599999999998P0.9999699999999998)\n",
      "  warn(f\"{count} is not an integer (in formula {self.formula})\")\n",
      "C:\\Local\\Programmes\\Anaconda3\\envs\\20240219_BioModTool_conda_env\\Lib\\site-packages\\cobra\\core\\metabolite.py:146: UserWarning: 3.5984599999999998 is not an integer (in formula C9.427660000000001H10.74287O7.05425N3.5984599999999998P0.9999699999999998)\n",
      "  warn(f\"{count} is not an integer (in formula {self.formula})\")\n",
      "C:\\Local\\Programmes\\Anaconda3\\envs\\20240219_BioModTool_conda_env\\Lib\\site-packages\\cobra\\core\\metabolite.py:146: UserWarning: 0.9999699999999998 is not an integer (in formula C9.427660000000001H10.74287O7.05425N3.5984599999999998P0.9999699999999998)\n",
      "  warn(f\"{count} is not an integer (in formula {self.formula})\")\n",
      "C:\\Local\\Programmes\\Anaconda3\\envs\\20240219_BioModTool_conda_env\\Lib\\site-packages\\cobra\\core\\metabolite.py:146: UserWarning: 4.803270000000001 is not an integer (in formula C4.803270000000001H7.514440000000008O1.4656599999999944N1.3476400000000002S0.03992)\n",
      "  warn(f\"{count} is not an integer (in formula {self.formula})\")\n",
      "C:\\Local\\Programmes\\Anaconda3\\envs\\20240219_BioModTool_conda_env\\Lib\\site-packages\\cobra\\core\\metabolite.py:146: UserWarning: 7.514440000000008 is not an integer (in formula C4.803270000000001H7.514440000000008O1.4656599999999944N1.3476400000000002S0.03992)\n",
      "  warn(f\"{count} is not an integer (in formula {self.formula})\")\n",
      "C:\\Local\\Programmes\\Anaconda3\\envs\\20240219_BioModTool_conda_env\\Lib\\site-packages\\cobra\\core\\metabolite.py:146: UserWarning: 1.4656599999999944 is not an integer (in formula C4.803270000000001H7.514440000000008O1.4656599999999944N1.3476400000000002S0.03992)\n",
      "  warn(f\"{count} is not an integer (in formula {self.formula})\")\n",
      "C:\\Local\\Programmes\\Anaconda3\\envs\\20240219_BioModTool_conda_env\\Lib\\site-packages\\cobra\\core\\metabolite.py:146: UserWarning: 1.3476400000000002 is not an integer (in formula C4.803270000000001H7.514440000000008O1.4656599999999944N1.3476400000000002S0.03992)\n",
      "  warn(f\"{count} is not an integer (in formula {self.formula})\")\n",
      "C:\\Local\\Programmes\\Anaconda3\\envs\\20240219_BioModTool_conda_env\\Lib\\site-packages\\cobra\\core\\metabolite.py:146: UserWarning: 0.03992 is not an integer (in formula C4.803270000000001H7.514440000000008O1.4656599999999944N1.3476400000000002S0.03992)\n",
      "  warn(f\"{count} is not an integer (in formula {self.formula})\")\n",
      "C:\\Local\\Programmes\\Anaconda3\\envs\\20240219_BioModTool_conda_env\\Lib\\site-packages\\cobra\\core\\metabolite.py:146: UserWarning: 38.9897 is not an integer (in formula C38.9897H74.6725O9.9999P0.9999899999999999)\n",
      "  warn(f\"{count} is not an integer (in formula {self.formula})\")\n",
      "C:\\Local\\Programmes\\Anaconda3\\envs\\20240219_BioModTool_conda_env\\Lib\\site-packages\\cobra\\core\\metabolite.py:146: UserWarning: 74.6725 is not an integer (in formula C38.9897H74.6725O9.9999P0.9999899999999999)\n",
      "  warn(f\"{count} is not an integer (in formula {self.formula})\")\n",
      "C:\\Local\\Programmes\\Anaconda3\\envs\\20240219_BioModTool_conda_env\\Lib\\site-packages\\cobra\\core\\metabolite.py:146: UserWarning: 9.9999 is not an integer (in formula C38.9897H74.6725O9.9999P0.9999899999999999)\n",
      "  warn(f\"{count} is not an integer (in formula {self.formula})\")\n",
      "C:\\Local\\Programmes\\Anaconda3\\envs\\20240219_BioModTool_conda_env\\Lib\\site-packages\\cobra\\core\\metabolite.py:146: UserWarning: 0.9999899999999999 is not an integer (in formula C38.9897H74.6725O9.9999P0.9999899999999999)\n",
      "  warn(f\"{count} is not an integer (in formula {self.formula})\")\n",
      "C:\\Local\\Programmes\\Anaconda3\\envs\\20240219_BioModTool_conda_env\\Lib\\site-packages\\cobra\\core\\metabolite.py:146: UserWarning: 37.98971 is not an integer (in formula C37.98971H74.6725O7.9999199999999995N0.9999899999999999P0.9999899999999999)\n",
      "  warn(f\"{count} is not an integer (in formula {self.formula})\")\n",
      "C:\\Local\\Programmes\\Anaconda3\\envs\\20240219_BioModTool_conda_env\\Lib\\site-packages\\cobra\\core\\metabolite.py:146: UserWarning: 74.6725 is not an integer (in formula C37.98971H74.6725O7.9999199999999995N0.9999899999999999P0.9999899999999999)\n",
      "  warn(f\"{count} is not an integer (in formula {self.formula})\")\n",
      "C:\\Local\\Programmes\\Anaconda3\\envs\\20240219_BioModTool_conda_env\\Lib\\site-packages\\cobra\\core\\metabolite.py:146: UserWarning: 7.9999199999999995 is not an integer (in formula C37.98971H74.6725O7.9999199999999995N0.9999899999999999P0.9999899999999999)\n",
      "  warn(f\"{count} is not an integer (in formula {self.formula})\")\n",
      "C:\\Local\\Programmes\\Anaconda3\\envs\\20240219_BioModTool_conda_env\\Lib\\site-packages\\cobra\\core\\metabolite.py:146: UserWarning: 0.9999899999999999 is not an integer (in formula C37.98971H74.6725O7.9999199999999995N0.9999899999999999P0.9999899999999999)\n",
      "  warn(f\"{count} is not an integer (in formula {self.formula})\")\n",
      "C:\\Local\\Programmes\\Anaconda3\\envs\\20240219_BioModTool_conda_env\\Lib\\site-packages\\cobra\\core\\metabolite.py:146: UserWarning: 74.97943000000001 is not an integer (in formula C74.97943000000001H141.34508O16.999830000000003P1.9999799999999999)\n",
      "  warn(f\"{count} is not an integer (in formula {self.formula})\")\n",
      "C:\\Local\\Programmes\\Anaconda3\\envs\\20240219_BioModTool_conda_env\\Lib\\site-packages\\cobra\\core\\metabolite.py:146: UserWarning: 141.34508 is not an integer (in formula C74.97943000000001H141.34508O16.999830000000003P1.9999799999999999)\n",
      "  warn(f\"{count} is not an integer (in formula {self.formula})\")\n",
      "C:\\Local\\Programmes\\Anaconda3\\envs\\20240219_BioModTool_conda_env\\Lib\\site-packages\\cobra\\core\\metabolite.py:146: UserWarning: 16.999830000000003 is not an integer (in formula C74.97943000000001H141.34508O16.999830000000003P1.9999799999999999)\n",
      "  warn(f\"{count} is not an integer (in formula {self.formula})\")\n",
      "C:\\Local\\Programmes\\Anaconda3\\envs\\20240219_BioModTool_conda_env\\Lib\\site-packages\\cobra\\core\\metabolite.py:146: UserWarning: 1.9999799999999999 is not an integer (in formula C74.97943000000001H141.34508O16.999830000000003P1.9999799999999999)\n",
      "  warn(f\"{count} is not an integer (in formula {self.formula})\")\n",
      "C:\\Local\\Programmes\\Anaconda3\\envs\\20240219_BioModTool_conda_env\\Lib\\site-packages\\cobra\\core\\metabolite.py:146: UserWarning: 40.060593677700005 is not an integer (in formula C40.060593677700005H78.07413503160001O8.8264317348N0.7653023469P1.0510094898)\n",
      "  warn(f\"{count} is not an integer (in formula {self.formula})\")\n",
      "C:\\Local\\Programmes\\Anaconda3\\envs\\20240219_BioModTool_conda_env\\Lib\\site-packages\\cobra\\core\\metabolite.py:146: UserWarning: 78.07413503160001 is not an integer (in formula C40.060593677700005H78.07413503160001O8.8264317348N0.7653023469P1.0510094898)\n",
      "  warn(f\"{count} is not an integer (in formula {self.formula})\")\n",
      "C:\\Local\\Programmes\\Anaconda3\\envs\\20240219_BioModTool_conda_env\\Lib\\site-packages\\cobra\\core\\metabolite.py:146: UserWarning: 8.8264317348 is not an integer (in formula C40.060593677700005H78.07413503160001O8.8264317348N0.7653023469P1.0510094898)\n",
      "  warn(f\"{count} is not an integer (in formula {self.formula})\")\n",
      "C:\\Local\\Programmes\\Anaconda3\\envs\\20240219_BioModTool_conda_env\\Lib\\site-packages\\cobra\\core\\metabolite.py:146: UserWarning: 0.7653023469 is not an integer (in formula C40.060593677700005H78.07413503160001O8.8264317348N0.7653023469P1.0510094898)\n",
      "  warn(f\"{count} is not an integer (in formula {self.formula})\")\n",
      "C:\\Local\\Programmes\\Anaconda3\\envs\\20240219_BioModTool_conda_env\\Lib\\site-packages\\cobra\\core\\metabolite.py:146: UserWarning: 1.0510094898 is not an integer (in formula C40.060593677700005H78.07413503160001O8.8264317348N0.7653023469P1.0510094898)\n",
      "  warn(f\"{count} is not an integer (in formula {self.formula})\")\n",
      "C:\\Local\\Programmes\\Anaconda3\\envs\\20240219_BioModTool_conda_env\\Lib\\site-packages\\cobra\\core\\metabolite.py:146: UserWarning: 40.59259727004123 is not an integer (in formula C40.59259727004123H62.339155478773726O16.850976170654622N10.09717316334253P1.037995606777102S0.2007301352)\n",
      "  warn(f\"{count} is not an integer (in formula {self.formula})\")\n",
      "C:\\Local\\Programmes\\Anaconda3\\envs\\20240219_BioModTool_conda_env\\Lib\\site-packages\\cobra\\core\\metabolite.py:146: UserWarning: 62.339155478773726 is not an integer (in formula C40.59259727004123H62.339155478773726O16.850976170654622N10.09717316334253P1.037995606777102S0.2007301352)\n",
      "  warn(f\"{count} is not an integer (in formula {self.formula})\")\n",
      "C:\\Local\\Programmes\\Anaconda3\\envs\\20240219_BioModTool_conda_env\\Lib\\site-packages\\cobra\\core\\metabolite.py:146: UserWarning: 16.850976170654622 is not an integer (in formula C40.59259727004123H62.339155478773726O16.850976170654622N10.09717316334253P1.037995606777102S0.2007301352)\n",
      "  warn(f\"{count} is not an integer (in formula {self.formula})\")\n",
      "C:\\Local\\Programmes\\Anaconda3\\envs\\20240219_BioModTool_conda_env\\Lib\\site-packages\\cobra\\core\\metabolite.py:146: UserWarning: 10.09717316334253 is not an integer (in formula C40.59259727004123H62.339155478773726O16.850976170654622N10.09717316334253P1.037995606777102S0.2007301352)\n",
      "  warn(f\"{count} is not an integer (in formula {self.formula})\")\n",
      "C:\\Local\\Programmes\\Anaconda3\\envs\\20240219_BioModTool_conda_env\\Lib\\site-packages\\cobra\\core\\metabolite.py:146: UserWarning: 1.037995606777102 is not an integer (in formula C40.59259727004123H62.339155478773726O16.850976170654622N10.09717316334253P1.037995606777102S0.2007301352)\n",
      "  warn(f\"{count} is not an integer (in formula {self.formula})\")\n",
      "C:\\Local\\Programmes\\Anaconda3\\envs\\20240219_BioModTool_conda_env\\Lib\\site-packages\\cobra\\core\\metabolite.py:146: UserWarning: 0.2007301352 is not an integer (in formula C40.59259727004123H62.339155478773726O16.850976170654622N10.09717316334253P1.037995606777102S0.2007301352)\n",
      "  warn(f\"{count} is not an integer (in formula {self.formula})\")\n"
     ]
    }
   ],
   "source": [
    "updated_model = BioModTool.main_add_biomass_objective_function.add_biomass_objective_function(\n",
    "    cobra_model = original_model,\n",
    "    path_to_data = path_to_data,\n",
    "    suffix = suffix,\n",
    "    dict_structure = dict_structure_BOF,\n",
    "    user_compartment = BOF_compartment,\n",
    "    calculate_charge = calculate_charge,\n",
    "    calculate_formula = calculate_formula,\n",
    "    saving_final_data = True)"
   ]
  },
  {
   "cell_type": "code",
   "execution_count": 12,
   "metadata": {},
   "outputs": [
    {
     "data": {
      "text/html": [
       "\n",
       "        <table>\n",
       "            <tr>\n",
       "                <td><strong>Reaction identifier</strong></td><td>BIOMASS_BioModTool_beck2018_c</td>\n",
       "            </tr><tr>\n",
       "                <td><strong>Name</strong></td><td>Biomass objective function: synthesis of BIOMASS_BioModTool_beck2018_c</td>\n",
       "            </tr><tr>\n",
       "                <td><strong>Memory address</strong></td>\n",
       "                <td>0x263186bf6e0</td>\n",
       "            </tr><tr>\n",
       "                <td><strong>Stoichiometry</strong></td>\n",
       "                <td>\n",
       "                    <p style='text-align:right'>0.0505 DNA_BioModTool_beck2018_c + 0.13999 LIPIDS_BioModTool_beck2018_c + 0.40285 POLYSACCHARIDES_BioModTool_beck2018_c + 5.02831 PROTEINS_BioModTool_beck2018_c + 0.84039 RNA_BioModTool_beck2018_c...</p>\n",
       "                    <p style='text-align:right'>0.0505 DNA_BioModTool_beck2018_c + 0.13999 LIPIDS_BioModTool_beck2018_c + 0.40285 POLYSACCHARIDES_BioModTool_beck2018_c + 5.02831 PROTEINS_BioModTool_beck2018_c + 0.84039 RNA_BioModTool_beck2018_c...</p>\n",
       "                </td>\n",
       "            </tr><tr>\n",
       "                <td><strong>GPR</strong></td><td>NO_GENE</td>\n",
       "            </tr><tr>\n",
       "                <td><strong>Lower bound</strong></td><td>0</td>\n",
       "            </tr><tr>\n",
       "                <td><strong>Upper bound</strong></td><td>100000.0</td>\n",
       "            </tr>\n",
       "        </table>\n",
       "        "
      ],
      "text/plain": [
       "<Reaction BIOMASS_BioModTool_beck2018_c at 0x263186bf6e0>"
      ]
     },
     "execution_count": 12,
     "metadata": {},
     "output_type": "execute_result"
    }
   ],
   "source": [
    "updated_model.reactions.BIOMASS_BioModTool_beck2018_c"
   ]
  },
  {
   "cell_type": "markdown",
   "metadata": {},
   "source": [
    "### 5 – Save updated model"
   ]
  },
  {
   "cell_type": "markdown",
   "metadata": {},
   "source": [
    "Save model in both json and sbml formats."
   ]
  },
  {
   "cell_type": "code",
   "execution_count": 13,
   "metadata": {},
   "outputs": [],
   "source": [
    "BioModTool.save.save_model(updated_model,\"iML1515_updated_model_beck2018_jupyter\")"
   ]
  },
  {
   "cell_type": "markdown",
   "metadata": {},
   "source": [
    "### 6 – Test mass and charge balance of the new biomass reaction"
   ]
  },
  {
   "cell_type": "code",
   "execution_count": 14,
   "metadata": {},
   "outputs": [
    {
     "name": "stderr",
     "output_type": "stream",
     "text": [
      "C:\\Local\\Programmes\\Anaconda3\\envs\\20240219_BioModTool_conda_env\\Lib\\site-packages\\cobra\\core\\metabolite.py:146: UserWarning: 9.746 is not an integer (in formula C9.746H11.246O6.0N3.754P1.0)\n",
      "  warn(f\"{count} is not an integer (in formula {self.formula})\")\n",
      "C:\\Local\\Programmes\\Anaconda3\\envs\\20240219_BioModTool_conda_env\\Lib\\site-packages\\cobra\\core\\metabolite.py:146: UserWarning: 11.246 is not an integer (in formula C9.746H11.246O6.0N3.754P1.0)\n",
      "  warn(f\"{count} is not an integer (in formula {self.formula})\")\n",
      "C:\\Local\\Programmes\\Anaconda3\\envs\\20240219_BioModTool_conda_env\\Lib\\site-packages\\cobra\\core\\metabolite.py:146: UserWarning: 3.754 is not an integer (in formula C9.746H11.246O6.0N3.754P1.0)\n",
      "  warn(f\"{count} is not an integer (in formula {self.formula})\")\n",
      "C:\\Local\\Programmes\\Anaconda3\\envs\\20240219_BioModTool_conda_env\\Lib\\site-packages\\cobra\\core\\metabolite.py:146: UserWarning: 9.427660000000001 is not an integer (in formula C9.427660000000001H10.74287O7.05425N3.5984599999999998P0.9999699999999998)\n",
      "  warn(f\"{count} is not an integer (in formula {self.formula})\")\n",
      "C:\\Local\\Programmes\\Anaconda3\\envs\\20240219_BioModTool_conda_env\\Lib\\site-packages\\cobra\\core\\metabolite.py:146: UserWarning: 10.74287 is not an integer (in formula C9.427660000000001H10.74287O7.05425N3.5984599999999998P0.9999699999999998)\n",
      "  warn(f\"{count} is not an integer (in formula {self.formula})\")\n",
      "C:\\Local\\Programmes\\Anaconda3\\envs\\20240219_BioModTool_conda_env\\Lib\\site-packages\\cobra\\core\\metabolite.py:146: UserWarning: 7.05425 is not an integer (in formula C9.427660000000001H10.74287O7.05425N3.5984599999999998P0.9999699999999998)\n",
      "  warn(f\"{count} is not an integer (in formula {self.formula})\")\n",
      "C:\\Local\\Programmes\\Anaconda3\\envs\\20240219_BioModTool_conda_env\\Lib\\site-packages\\cobra\\core\\metabolite.py:146: UserWarning: 3.5984599999999998 is not an integer (in formula C9.427660000000001H10.74287O7.05425N3.5984599999999998P0.9999699999999998)\n",
      "  warn(f\"{count} is not an integer (in formula {self.formula})\")\n",
      "C:\\Local\\Programmes\\Anaconda3\\envs\\20240219_BioModTool_conda_env\\Lib\\site-packages\\cobra\\core\\metabolite.py:146: UserWarning: 0.9999699999999998 is not an integer (in formula C9.427660000000001H10.74287O7.05425N3.5984599999999998P0.9999699999999998)\n",
      "  warn(f\"{count} is not an integer (in formula {self.formula})\")\n",
      "C:\\Local\\Programmes\\Anaconda3\\envs\\20240219_BioModTool_conda_env\\Lib\\site-packages\\cobra\\core\\metabolite.py:146: UserWarning: 4.803270000000001 is not an integer (in formula C4.803270000000001H7.514440000000008O1.4656599999999944N1.3476400000000002S0.03992)\n",
      "  warn(f\"{count} is not an integer (in formula {self.formula})\")\n",
      "C:\\Local\\Programmes\\Anaconda3\\envs\\20240219_BioModTool_conda_env\\Lib\\site-packages\\cobra\\core\\metabolite.py:146: UserWarning: 7.514440000000008 is not an integer (in formula C4.803270000000001H7.514440000000008O1.4656599999999944N1.3476400000000002S0.03992)\n",
      "  warn(f\"{count} is not an integer (in formula {self.formula})\")\n",
      "C:\\Local\\Programmes\\Anaconda3\\envs\\20240219_BioModTool_conda_env\\Lib\\site-packages\\cobra\\core\\metabolite.py:146: UserWarning: 1.4656599999999944 is not an integer (in formula C4.803270000000001H7.514440000000008O1.4656599999999944N1.3476400000000002S0.03992)\n",
      "  warn(f\"{count} is not an integer (in formula {self.formula})\")\n",
      "C:\\Local\\Programmes\\Anaconda3\\envs\\20240219_BioModTool_conda_env\\Lib\\site-packages\\cobra\\core\\metabolite.py:146: UserWarning: 1.3476400000000002 is not an integer (in formula C4.803270000000001H7.514440000000008O1.4656599999999944N1.3476400000000002S0.03992)\n",
      "  warn(f\"{count} is not an integer (in formula {self.formula})\")\n",
      "C:\\Local\\Programmes\\Anaconda3\\envs\\20240219_BioModTool_conda_env\\Lib\\site-packages\\cobra\\core\\metabolite.py:146: UserWarning: 0.03992 is not an integer (in formula C4.803270000000001H7.514440000000008O1.4656599999999944N1.3476400000000002S0.03992)\n",
      "  warn(f\"{count} is not an integer (in formula {self.formula})\")\n",
      "C:\\Local\\Programmes\\Anaconda3\\envs\\20240219_BioModTool_conda_env\\Lib\\site-packages\\cobra\\core\\metabolite.py:146: UserWarning: 38.9897 is not an integer (in formula C38.9897H74.6725O9.9999P0.9999899999999999)\n",
      "  warn(f\"{count} is not an integer (in formula {self.formula})\")\n",
      "C:\\Local\\Programmes\\Anaconda3\\envs\\20240219_BioModTool_conda_env\\Lib\\site-packages\\cobra\\core\\metabolite.py:146: UserWarning: 74.6725 is not an integer (in formula C38.9897H74.6725O9.9999P0.9999899999999999)\n",
      "  warn(f\"{count} is not an integer (in formula {self.formula})\")\n",
      "C:\\Local\\Programmes\\Anaconda3\\envs\\20240219_BioModTool_conda_env\\Lib\\site-packages\\cobra\\core\\metabolite.py:146: UserWarning: 9.9999 is not an integer (in formula C38.9897H74.6725O9.9999P0.9999899999999999)\n",
      "  warn(f\"{count} is not an integer (in formula {self.formula})\")\n",
      "C:\\Local\\Programmes\\Anaconda3\\envs\\20240219_BioModTool_conda_env\\Lib\\site-packages\\cobra\\core\\metabolite.py:146: UserWarning: 0.9999899999999999 is not an integer (in formula C38.9897H74.6725O9.9999P0.9999899999999999)\n",
      "  warn(f\"{count} is not an integer (in formula {self.formula})\")\n",
      "C:\\Local\\Programmes\\Anaconda3\\envs\\20240219_BioModTool_conda_env\\Lib\\site-packages\\cobra\\core\\metabolite.py:146: UserWarning: 37.98971 is not an integer (in formula C37.98971H74.6725O7.9999199999999995N0.9999899999999999P0.9999899999999999)\n",
      "  warn(f\"{count} is not an integer (in formula {self.formula})\")\n",
      "C:\\Local\\Programmes\\Anaconda3\\envs\\20240219_BioModTool_conda_env\\Lib\\site-packages\\cobra\\core\\metabolite.py:146: UserWarning: 74.6725 is not an integer (in formula C37.98971H74.6725O7.9999199999999995N0.9999899999999999P0.9999899999999999)\n",
      "  warn(f\"{count} is not an integer (in formula {self.formula})\")\n",
      "C:\\Local\\Programmes\\Anaconda3\\envs\\20240219_BioModTool_conda_env\\Lib\\site-packages\\cobra\\core\\metabolite.py:146: UserWarning: 7.9999199999999995 is not an integer (in formula C37.98971H74.6725O7.9999199999999995N0.9999899999999999P0.9999899999999999)\n",
      "  warn(f\"{count} is not an integer (in formula {self.formula})\")\n",
      "C:\\Local\\Programmes\\Anaconda3\\envs\\20240219_BioModTool_conda_env\\Lib\\site-packages\\cobra\\core\\metabolite.py:146: UserWarning: 0.9999899999999999 is not an integer (in formula C37.98971H74.6725O7.9999199999999995N0.9999899999999999P0.9999899999999999)\n",
      "  warn(f\"{count} is not an integer (in formula {self.formula})\")\n",
      "C:\\Local\\Programmes\\Anaconda3\\envs\\20240219_BioModTool_conda_env\\Lib\\site-packages\\cobra\\core\\metabolite.py:146: UserWarning: 74.97943000000001 is not an integer (in formula C74.97943000000001H141.34508O16.999830000000003P1.9999799999999999)\n",
      "  warn(f\"{count} is not an integer (in formula {self.formula})\")\n",
      "C:\\Local\\Programmes\\Anaconda3\\envs\\20240219_BioModTool_conda_env\\Lib\\site-packages\\cobra\\core\\metabolite.py:146: UserWarning: 141.34508 is not an integer (in formula C74.97943000000001H141.34508O16.999830000000003P1.9999799999999999)\n",
      "  warn(f\"{count} is not an integer (in formula {self.formula})\")\n",
      "C:\\Local\\Programmes\\Anaconda3\\envs\\20240219_BioModTool_conda_env\\Lib\\site-packages\\cobra\\core\\metabolite.py:146: UserWarning: 16.999830000000003 is not an integer (in formula C74.97943000000001H141.34508O16.999830000000003P1.9999799999999999)\n",
      "  warn(f\"{count} is not an integer (in formula {self.formula})\")\n",
      "C:\\Local\\Programmes\\Anaconda3\\envs\\20240219_BioModTool_conda_env\\Lib\\site-packages\\cobra\\core\\metabolite.py:146: UserWarning: 1.9999799999999999 is not an integer (in formula C74.97943000000001H141.34508O16.999830000000003P1.9999799999999999)\n",
      "  warn(f\"{count} is not an integer (in formula {self.formula})\")\n",
      "C:\\Local\\Programmes\\Anaconda3\\envs\\20240219_BioModTool_conda_env\\Lib\\site-packages\\cobra\\core\\metabolite.py:146: UserWarning: 40.060593677700005 is not an integer (in formula C40.060593677700005H78.07413503160001O8.8264317348N0.7653023469P1.0510094898)\n",
      "  warn(f\"{count} is not an integer (in formula {self.formula})\")\n",
      "C:\\Local\\Programmes\\Anaconda3\\envs\\20240219_BioModTool_conda_env\\Lib\\site-packages\\cobra\\core\\metabolite.py:146: UserWarning: 78.07413503160001 is not an integer (in formula C40.060593677700005H78.07413503160001O8.8264317348N0.7653023469P1.0510094898)\n",
      "  warn(f\"{count} is not an integer (in formula {self.formula})\")\n",
      "C:\\Local\\Programmes\\Anaconda3\\envs\\20240219_BioModTool_conda_env\\Lib\\site-packages\\cobra\\core\\metabolite.py:146: UserWarning: 8.8264317348 is not an integer (in formula C40.060593677700005H78.07413503160001O8.8264317348N0.7653023469P1.0510094898)\n",
      "  warn(f\"{count} is not an integer (in formula {self.formula})\")\n",
      "C:\\Local\\Programmes\\Anaconda3\\envs\\20240219_BioModTool_conda_env\\Lib\\site-packages\\cobra\\core\\metabolite.py:146: UserWarning: 0.7653023469 is not an integer (in formula C40.060593677700005H78.07413503160001O8.8264317348N0.7653023469P1.0510094898)\n",
      "  warn(f\"{count} is not an integer (in formula {self.formula})\")\n",
      "C:\\Local\\Programmes\\Anaconda3\\envs\\20240219_BioModTool_conda_env\\Lib\\site-packages\\cobra\\core\\metabolite.py:146: UserWarning: 1.0510094898 is not an integer (in formula C40.060593677700005H78.07413503160001O8.8264317348N0.7653023469P1.0510094898)\n",
      "  warn(f\"{count} is not an integer (in formula {self.formula})\")\n",
      "C:\\Local\\Programmes\\Anaconda3\\envs\\20240219_BioModTool_conda_env\\Lib\\site-packages\\cobra\\core\\metabolite.py:146: UserWarning: 40.59259727004123 is not an integer (in formula C40.59259727004123H62.339155478773726O16.850976170654622N10.09717316334253P1.037995606777102S0.2007301352)\n",
      "  warn(f\"{count} is not an integer (in formula {self.formula})\")\n",
      "C:\\Local\\Programmes\\Anaconda3\\envs\\20240219_BioModTool_conda_env\\Lib\\site-packages\\cobra\\core\\metabolite.py:146: UserWarning: 62.339155478773726 is not an integer (in formula C40.59259727004123H62.339155478773726O16.850976170654622N10.09717316334253P1.037995606777102S0.2007301352)\n",
      "  warn(f\"{count} is not an integer (in formula {self.formula})\")\n",
      "C:\\Local\\Programmes\\Anaconda3\\envs\\20240219_BioModTool_conda_env\\Lib\\site-packages\\cobra\\core\\metabolite.py:146: UserWarning: 16.850976170654622 is not an integer (in formula C40.59259727004123H62.339155478773726O16.850976170654622N10.09717316334253P1.037995606777102S0.2007301352)\n",
      "  warn(f\"{count} is not an integer (in formula {self.formula})\")\n",
      "C:\\Local\\Programmes\\Anaconda3\\envs\\20240219_BioModTool_conda_env\\Lib\\site-packages\\cobra\\core\\metabolite.py:146: UserWarning: 10.09717316334253 is not an integer (in formula C40.59259727004123H62.339155478773726O16.850976170654622N10.09717316334253P1.037995606777102S0.2007301352)\n",
      "  warn(f\"{count} is not an integer (in formula {self.formula})\")\n",
      "C:\\Local\\Programmes\\Anaconda3\\envs\\20240219_BioModTool_conda_env\\Lib\\site-packages\\cobra\\core\\metabolite.py:146: UserWarning: 1.037995606777102 is not an integer (in formula C40.59259727004123H62.339155478773726O16.850976170654622N10.09717316334253P1.037995606777102S0.2007301352)\n",
      "  warn(f\"{count} is not an integer (in formula {self.formula})\")\n",
      "C:\\Local\\Programmes\\Anaconda3\\envs\\20240219_BioModTool_conda_env\\Lib\\site-packages\\cobra\\core\\metabolite.py:146: UserWarning: 0.2007301352 is not an integer (in formula C40.59259727004123H62.339155478773726O16.850976170654622N10.09717316334253P1.037995606777102S0.2007301352)\n",
      "  warn(f\"{count} is not an integer (in formula {self.formula})\")\n"
     ]
    },
    {
     "data": {
      "text/html": [
       "<div>\n",
       "<style scoped>\n",
       "    .dataframe tbody tr th:only-of-type {\n",
       "        vertical-align: middle;\n",
       "    }\n",
       "\n",
       "    .dataframe tbody tr th {\n",
       "        vertical-align: top;\n",
       "    }\n",
       "\n",
       "    .dataframe thead th {\n",
       "        text-align: right;\n",
       "    }\n",
       "</style>\n",
       "<table border=\"1\" class=\"dataframe\">\n",
       "  <thead>\n",
       "    <tr style=\"text-align: right;\">\n",
       "      <th></th>\n",
       "      <th>charge</th>\n",
       "      <th>P</th>\n",
       "    </tr>\n",
       "  </thead>\n",
       "  <tbody>\n",
       "    <tr>\n",
       "      <th>RNA_BioModTool_beck2018_c</th>\n",
       "      <td>-0.00004</td>\n",
       "      <td>NaN</td>\n",
       "    </tr>\n",
       "    <tr>\n",
       "      <th>PROTEINS_BioModTool_beck2018_c</th>\n",
       "      <td>0.01462</td>\n",
       "      <td>4.440892e-16</td>\n",
       "    </tr>\n",
       "    <tr>\n",
       "      <th>PG_BioModTool_beck2018_c</th>\n",
       "      <td>-0.00001</td>\n",
       "      <td>NaN</td>\n",
       "    </tr>\n",
       "    <tr>\n",
       "      <th>CLPN_BioModTool_beck2018_c</th>\n",
       "      <td>-0.00002</td>\n",
       "      <td>NaN</td>\n",
       "    </tr>\n",
       "    <tr>\n",
       "      <th>LIPIDS_BioModTool_beck2018_c</th>\n",
       "      <td>0.28571</td>\n",
       "      <td>NaN</td>\n",
       "    </tr>\n",
       "    <tr>\n",
       "      <th>BIOMASS_BioModTool_beck2018_c</th>\n",
       "      <td>-0.10911</td>\n",
       "      <td>NaN</td>\n",
       "    </tr>\n",
       "  </tbody>\n",
       "</table>\n",
       "</div>"
      ],
      "text/plain": [
       "                                 charge             P\n",
       "RNA_BioModTool_beck2018_c      -0.00004           NaN\n",
       "PROTEINS_BioModTool_beck2018_c  0.01462  4.440892e-16\n",
       "PG_BioModTool_beck2018_c       -0.00001           NaN\n",
       "CLPN_BioModTool_beck2018_c     -0.00002           NaN\n",
       "LIPIDS_BioModTool_beck2018_c    0.28571           NaN\n",
       "BIOMASS_BioModTool_beck2018_c  -0.10911           NaN"
      ]
     },
     "execution_count": 14,
     "metadata": {},
     "output_type": "execute_result"
    }
   ],
   "source": [
    "BioModTool.test.test_BOF_by_suffix(updated_model,suffix) # OK"
   ]
  },
  {
   "cell_type": "markdown",
   "metadata": {},
   "source": [
    "### 7 – Test simulation with new biomass reaction"
   ]
  },
  {
   "cell_type": "code",
   "execution_count": 15,
   "metadata": {},
   "outputs": [],
   "source": [
    "from cobra import Reaction, Metabolite"
   ]
  },
  {
   "cell_type": "markdown",
   "metadata": {},
   "source": [
    "##### 7.a) Objective = BIOMASS_BioModTool_beck2018_c (new BOF)"
   ]
  },
  {
   "cell_type": "code",
   "execution_count": 16,
   "metadata": {},
   "outputs": [
    {
     "data": {
      "text/plain": [
       "-1"
      ]
     },
     "execution_count": 16,
     "metadata": {},
     "output_type": "execute_result"
    }
   ],
   "source": [
    "updated_model.metabolites.BIOMASS_BioModTool_beck2018_c.charge"
   ]
  },
  {
   "cell_type": "code",
   "execution_count": 17,
   "metadata": {},
   "outputs": [],
   "source": [
    "new_biomass_id = \"BIOMASS_BioModTool_beck2018_c\""
   ]
  },
  {
   "cell_type": "code",
   "execution_count": 18,
   "metadata": {},
   "outputs": [
    {
     "data": {
      "text/html": [
       "<strong><em>Optimal</em> solution with objective value 642.605</strong><br><div>\n",
       "<style scoped>\n",
       "    .dataframe tbody tr th:only-of-type {\n",
       "        vertical-align: middle;\n",
       "    }\n",
       "\n",
       "    .dataframe tbody tr th {\n",
       "        vertical-align: top;\n",
       "    }\n",
       "\n",
       "    .dataframe thead th {\n",
       "        text-align: right;\n",
       "    }\n",
       "</style>\n",
       "<table border=\"1\" class=\"dataframe\">\n",
       "  <thead>\n",
       "    <tr style=\"text-align: right;\">\n",
       "      <th></th>\n",
       "      <th>fluxes</th>\n",
       "      <th>reduced_costs</th>\n",
       "    </tr>\n",
       "  </thead>\n",
       "  <tbody>\n",
       "    <tr>\n",
       "      <th>CYTDK2</th>\n",
       "      <td>0.000000e+00</td>\n",
       "      <td>2.284839e-13</td>\n",
       "    </tr>\n",
       "    <tr>\n",
       "      <th>XPPT</th>\n",
       "      <td>0.000000e+00</td>\n",
       "      <td>-2.000000e+00</td>\n",
       "    </tr>\n",
       "    <tr>\n",
       "      <th>HXPRT</th>\n",
       "      <td>0.000000e+00</td>\n",
       "      <td>5.800000e+01</td>\n",
       "    </tr>\n",
       "    <tr>\n",
       "      <th>NDPK5</th>\n",
       "      <td>4.888142e-47</td>\n",
       "      <td>-2.000000e+00</td>\n",
       "    </tr>\n",
       "    <tr>\n",
       "      <th>SHK3Dr</th>\n",
       "      <td>4.650178e-01</td>\n",
       "      <td>-2.000000e+00</td>\n",
       "    </tr>\n",
       "    <tr>\n",
       "      <th>...</th>\n",
       "      <td>...</td>\n",
       "      <td>...</td>\n",
       "    </tr>\n",
       "    <tr>\n",
       "      <th>PE_BioModTool_beck2018_c</th>\n",
       "      <td>1.210792e-01</td>\n",
       "      <td>-2.000000e+00</td>\n",
       "    </tr>\n",
       "    <tr>\n",
       "      <th>CLPN_BioModTool_beck2018_c</th>\n",
       "      <td>8.071838e-03</td>\n",
       "      <td>-2.000000e+00</td>\n",
       "    </tr>\n",
       "    <tr>\n",
       "      <th>LIPIDS_BioModTool_beck2018_c</th>\n",
       "      <td>1.582093e-01</td>\n",
       "      <td>-2.000000e+00</td>\n",
       "    </tr>\n",
       "    <tr>\n",
       "      <th>BIOMASS_BioModTool_beck2018_c</th>\n",
       "      <td>1.130147e+00</td>\n",
       "      <td>-2.000000e+00</td>\n",
       "    </tr>\n",
       "    <tr>\n",
       "      <th>EX_BIOMASS_BioModTool_beck2018_</th>\n",
       "      <td>1.130147e+00</td>\n",
       "      <td>-2.000000e+00</td>\n",
       "    </tr>\n",
       "  </tbody>\n",
       "</table>\n",
       "<p>2722 rows × 2 columns</p>\n",
       "</div>"
      ],
      "text/plain": [
       "<Solution 642.605 at 0x2631864e180>"
      ]
     },
     "execution_count": 18,
     "metadata": {},
     "output_type": "execute_result"
    }
   ],
   "source": [
    "updated_model.objective = new_biomass_id\n",
    "pfba_cobra(updated_model)"
   ]
  },
  {
   "cell_type": "code",
   "execution_count": 19,
   "metadata": {},
   "outputs": [
    {
     "name": "stderr",
     "output_type": "stream",
     "text": [
      "C:\\Local\\Programmes\\Anaconda3\\envs\\20240219_BioModTool_conda_env\\Lib\\site-packages\\cobra\\core\\metabolite.py:146: UserWarning: 40.59259727004123 is not an integer (in formula C40.59259727004123H62.339155478773726O16.850976170654622N10.09717316334253P1.037995606777102S0.2007301352)\n",
      "  warn(f\"{count} is not an integer (in formula {self.formula})\")\n",
      "C:\\Local\\Programmes\\Anaconda3\\envs\\20240219_BioModTool_conda_env\\Lib\\site-packages\\cobra\\core\\metabolite.py:146: UserWarning: 62.339155478773726 is not an integer (in formula C40.59259727004123H62.339155478773726O16.850976170654622N10.09717316334253P1.037995606777102S0.2007301352)\n",
      "  warn(f\"{count} is not an integer (in formula {self.formula})\")\n",
      "C:\\Local\\Programmes\\Anaconda3\\envs\\20240219_BioModTool_conda_env\\Lib\\site-packages\\cobra\\core\\metabolite.py:146: UserWarning: 16.850976170654622 is not an integer (in formula C40.59259727004123H62.339155478773726O16.850976170654622N10.09717316334253P1.037995606777102S0.2007301352)\n",
      "  warn(f\"{count} is not an integer (in formula {self.formula})\")\n",
      "C:\\Local\\Programmes\\Anaconda3\\envs\\20240219_BioModTool_conda_env\\Lib\\site-packages\\cobra\\core\\metabolite.py:146: UserWarning: 10.09717316334253 is not an integer (in formula C40.59259727004123H62.339155478773726O16.850976170654622N10.09717316334253P1.037995606777102S0.2007301352)\n",
      "  warn(f\"{count} is not an integer (in formula {self.formula})\")\n",
      "C:\\Local\\Programmes\\Anaconda3\\envs\\20240219_BioModTool_conda_env\\Lib\\site-packages\\cobra\\core\\metabolite.py:146: UserWarning: 1.037995606777102 is not an integer (in formula C40.59259727004123H62.339155478773726O16.850976170654622N10.09717316334253P1.037995606777102S0.2007301352)\n",
      "  warn(f\"{count} is not an integer (in formula {self.formula})\")\n",
      "C:\\Local\\Programmes\\Anaconda3\\envs\\20240219_BioModTool_conda_env\\Lib\\site-packages\\cobra\\core\\metabolite.py:146: UserWarning: 0.2007301352 is not an integer (in formula C40.59259727004123H62.339155478773726O16.850976170654622N10.09717316334253P1.037995606777102S0.2007301352)\n",
      "  warn(f\"{count} is not an integer (in formula {self.formula})\")\n"
     ]
    },
    {
     "data": {
      "text/html": [
       "<h3>Objective</h3><p>1.0 BIOMASS_BioModTool_beck2018_c = 1.130147111655828</p><h4>Uptake</h4><table border=\"1\" class=\"dataframe\">\n",
       "  <thead>\n",
       "    <tr style=\"text-align: right;\">\n",
       "      <th>Metabolite</th>\n",
       "      <th>Reaction</th>\n",
       "      <th>Flux</th>\n",
       "      <th>C-Number</th>\n",
       "      <th>C-Flux</th>\n",
       "    </tr>\n",
       "  </thead>\n",
       "  <tbody>\n",
       "    <tr>\n",
       "      <td>glc__D_e</td>\n",
       "      <td>EX_glc__D_e</td>\n",
       "      <td>10</td>\n",
       "      <td>6</td>\n",
       "      <td>100.00%</td>\n",
       "    </tr>\n",
       "    <tr>\n",
       "      <td>nh4_e</td>\n",
       "      <td>EX_nh4_e</td>\n",
       "      <td>11.41</td>\n",
       "      <td>0</td>\n",
       "      <td>0.00%</td>\n",
       "    </tr>\n",
       "    <tr>\n",
       "      <td>o2_e</td>\n",
       "      <td>EX_o2_e</td>\n",
       "      <td>12.5</td>\n",
       "      <td>0</td>\n",
       "      <td>0.00%</td>\n",
       "    </tr>\n",
       "    <tr>\n",
       "      <td>pi_e</td>\n",
       "      <td>EX_pi_e</td>\n",
       "      <td>1.173</td>\n",
       "      <td>0</td>\n",
       "      <td>0.00%</td>\n",
       "    </tr>\n",
       "    <tr>\n",
       "      <td>so4_e</td>\n",
       "      <td>EX_so4_e</td>\n",
       "      <td>0.2269</td>\n",
       "      <td>0</td>\n",
       "      <td>0.00%</td>\n",
       "    </tr>\n",
       "  </tbody>\n",
       "</table><h4>Secretion</h4><table border=\"1\" class=\"dataframe\">\n",
       "  <thead>\n",
       "    <tr style=\"text-align: right;\">\n",
       "      <th>Metabolite</th>\n",
       "      <th>Reaction</th>\n",
       "      <th>Flux</th>\n",
       "      <th>C-Number</th>\n",
       "      <th>C-Flux</th>\n",
       "    </tr>\n",
       "  </thead>\n",
       "  <tbody>\n",
       "    <tr>\n",
       "      <td>BIOMASS_BioModTool_beck2018_c</td>\n",
       "      <td>EX_BIOMASS_BioModTool_beck2018_</td>\n",
       "      <td>-1.13</td>\n",
       "      <td>40.592597</td>\n",
       "      <td>76.46%</td>\n",
       "    </tr>\n",
       "    <tr>\n",
       "      <td>co2_e</td>\n",
       "      <td>EX_co2_e</td>\n",
       "      <td>-14.12</td>\n",
       "      <td>1.000000</td>\n",
       "      <td>23.54%</td>\n",
       "    </tr>\n",
       "    <tr>\n",
       "      <td>h2o_e</td>\n",
       "      <td>EX_h2o_e</td>\n",
       "      <td>-43.31</td>\n",
       "      <td>0.000000</td>\n",
       "      <td>0.00%</td>\n",
       "    </tr>\n",
       "    <tr>\n",
       "      <td>h_e</td>\n",
       "      <td>EX_h_e</td>\n",
       "      <td>-9.746</td>\n",
       "      <td>0.000000</td>\n",
       "      <td>0.00%</td>\n",
       "    </tr>\n",
       "  </tbody>\n",
       "</table>"
      ],
      "text/plain": [
       "<cobra.summary.model_summary.ModelSummary at 0x26318500d10>"
      ]
     },
     "execution_count": 19,
     "metadata": {},
     "output_type": "execute_result"
    }
   ],
   "source": [
    "updated_model.summary()"
   ]
  },
  {
   "cell_type": "markdown",
   "metadata": {},
   "source": [
    "##### 7.b) Objective = beck reaction (manually added  from Beck et al., 2018)"
   ]
  },
  {
   "cell_type": "code",
   "execution_count": 20,
   "metadata": {},
   "outputs": [],
   "source": [
    "Biomass_dict = {\"DNA\":-5.05029378916591/100, # Beck unit (mol_polymer/100 kg_DW =  mmol_polymer / 100 g_DW) into mmol_polymer / g_DW\n",
    "                \"RNA\":-8.40374146379437/100,\n",
    "                \"protein\":-5.01641118949985/100,\n",
    "                \"lipid\":-13.9019957911911/100,\n",
    "                \"polysaccharide\":-4.02851950095506/100,\n",
    "                \"biomass_beck\":1}"
   ]
  },
  {
   "cell_type": "code",
   "execution_count": 21,
   "metadata": {},
   "outputs": [],
   "source": [
    "for met_id in Biomass_dict.keys():\n",
    "    new_met = Metabolite(met_id)\n",
    "    original_model.add_metabolites([new_met])\n",
    "    \n",
    "    \n",
    "for met_id in [\"Cardiolipin\",\"Phosphatidylglycerol\",\"Phosphatidylethanolamine\"]:\n",
    "    new_met = Metabolite(met_id)\n",
    "    original_model.add_metabolites([new_met])"
   ]
  },
  {
   "cell_type": "code",
   "execution_count": 22,
   "metadata": {},
   "outputs": [],
   "source": [
    "DNA_dict = {\"datp_c\":-0.246,\n",
    "\"dctp_c\":-0.254,\n",
    "\"dgtp_c\":-0.254,\n",
    "\"dttp_c\":-0.246,\n",
    "            \n",
    "\"DNA\":1,\n",
    "\"ppi_c\":1\n",
    "}"
   ]
  },
  {
   "cell_type": "code",
   "execution_count": 23,
   "metadata": {},
   "outputs": [],
   "source": [
    "RNA_dict = {\"atp_c\":-2.0262150129207,\n",
    "\"ctp_c\":-3.1523397366045,\n",
    "\"gtp_c\":-2.25131542077898,\n",
    "\"utp_c\":-2.57012982969582,           \n",
    "\"RNA\":1,\n",
    "\"ppi_c\":10\n",
    "}"
   ]
  },
  {
   "cell_type": "code",
   "execution_count": 24,
   "metadata": {},
   "outputs": [],
   "source": [
    "prot_dict = {\"ala__L_c\":-10.1,\n",
    "\"cys__L_c\":-1.2,\n",
    "\"asp__L_c\":-5.38333333333333,\n",
    "\"glu__L_c\":-6.88039215686274,\n",
    "\"phe__L_c\":-3.9,\n",
    "\"gly_c\":-10.9,\n",
    "\"his__L_c\":-1.6,\n",
    "\"ile__L_c\":-4.8,\n",
    "\"lys__L_c\":-5.8,\n",
    "\"leu__L_c\":-7.2,\n",
    "\"met__L_c\":-2.8,\n",
    "\"asn__L_c\":-4.11666666666667,\n",
    "\"pro__L_c\":-4,\n",
    "\"gln__L_c\":-5.21960784313726,\n",
    "\"arg__L_c\":-5,\n",
    "\"ser__L_c\":-4.9,\n",
    "\"thr__L_c\":-5.3,\n",
    "\"val__L_c\":-6.8,\n",
    "\"trp__L_c\":-1.5,\n",
    "\"tyr__L_c\":-2.8,\n",
    "\"atp_c\":-100,\n",
    "\"gtp_c\":-198,\n",
    "\"h2o_c\":-197.8,\n",
    "\"amp_c\":100,\n",
    "\"ppi_c\":100,\n",
    "\"gdp_c\":198,\n",
    "\"pi_c\":198,\n",
    "\"h_c\":298,\n",
    "\"protein\":1}\n"
   ]
  },
  {
   "cell_type": "code",
   "execution_count": 25,
   "metadata": {},
   "outputs": [],
   "source": [
    "poly_dict = { \"g1p_c\":-10,\n",
    "            \"atp_c\":-10,\n",
    "            \"adp_c\":10,\n",
    "            \"ppi_c\":10,\n",
    "            \"polysaccharide\":1}"
   ]
  },
  {
   "cell_type": "code",
   "execution_count": 26,
   "metadata": {},
   "outputs": [],
   "source": [
    "lip_dict = {\"Phosphatidylethanolamine\":-0.76530612244898,\n",
    "\"Phosphatidylglycerol\":-0.183673469387755,\n",
    "\"Cardiolipin\":-0.0510204081632653,\n",
    "\"lipid\" :1    \n",
    "}\n"
   ]
  },
  {
   "cell_type": "code",
   "execution_count": 27,
   "metadata": {},
   "outputs": [],
   "source": [
    "PE_dict = {\"pe180_p\":-0.25,\n",
    "\"pe160_p\":-0.43,\n",
    "\"pe161_p\":-0.33,\n",
    " \"Phosphatidylethanolamine\":1}\n",
    "    "
   ]
  },
  {
   "cell_type": "code",
   "execution_count": 28,
   "metadata": {},
   "outputs": [],
   "source": [
    "PG_dict = {\"pg180_p\":-0.25,\n",
    "\"pg160_p\":-0.43,\n",
    "\"pg161_p\":-0.33,\n",
    " \"Phosphatidylglycerol\":1}"
   ]
  },
  {
   "cell_type": "code",
   "execution_count": 29,
   "metadata": {},
   "outputs": [],
   "source": [
    "clpn_dict = {\"clpn180_p\":-0.25,\n",
    "\"clpn160_p\":-0.43,\n",
    "\"clpn161_p\":-0.33,\n",
    " \"Cardiolipin\":1}"
   ]
  },
  {
   "cell_type": "code",
   "execution_count": 30,
   "metadata": {},
   "outputs": [],
   "source": [
    "rxn_dict = {\n",
    "\"Cardiolipin\":clpn_dict,\n",
    "\"Phosphatidylglycerol\":PG_dict,\n",
    "\"Phosphatidylethanolamine\": PE_dict,\n",
    "\"DNA\":DNA_dict,\n",
    "\"RNA\":RNA_dict,\n",
    "\"protein\":prot_dict,\n",
    "\"lipid\":lip_dict,\n",
    "\"polysaccharide\":poly_dict,\n",
    "\"biomass_beck\":Biomass_dict}"
   ]
  },
  {
   "cell_type": "code",
   "execution_count": 31,
   "metadata": {},
   "outputs": [
    {
     "name": "stdout",
     "output_type": "stream",
     "text": [
      "Cardiolipin ; 0.43 clpn160_p + 0.33 clpn161_p + 0.25 clpn180_p --> Cardiolipin\n",
      "Phosphatidylglycerol ; 0.43 pg160_p + 0.33 pg161_p + 0.25 pg180_p --> Phosphatidylglycerol\n",
      "Phosphatidylethanolamine ; 0.43 pe160_p + 0.33 pe161_p + 0.25 pe180_p --> Phosphatidylethanolamine\n",
      "DNA ; 0.246 datp_c + 0.254 dctp_c + 0.254 dgtp_c + 0.246 dttp_c --> DNA + ppi_c\n",
      "RNA ; 2.0262150129207 atp_c + 3.1523397366045 ctp_c + 2.25131542077898 gtp_c + 2.57012982969582 utp_c --> RNA + 10 ppi_c\n",
      "protein ; 10.1 ala__L_c + 5 arg__L_c + 4.11666666666667 asn__L_c + 5.38333333333333 asp__L_c + 100 atp_c + 1.2 cys__L_c + 5.21960784313726 gln__L_c + 6.88039215686274 glu__L_c + 10.9 gly_c + 198 gtp_c + 197.8 h2o_c + 1.6 his__L_c + 4.8 ile__L_c + 7.2 leu__L_c + 5.8 lys__L_c + 2.8 met__L_c + 3.9 phe__L_c + 4 pro__L_c + 4.9 ser__L_c + 5.3 thr__L_c + 1.5 trp__L_c + 2.8 tyr__L_c + 6.8 val__L_c --> 100 amp_c + 198 gdp_c + 298 h_c + 198 pi_c + 100 ppi_c + protein\n",
      "lipid ; 0.0510204081632653 Cardiolipin + 0.76530612244898 Phosphatidylethanolamine + 0.183673469387755 Phosphatidylglycerol --> lipid\n",
      "polysaccharide ; 10 atp_c + 10 g1p_c --> 10 adp_c + polysaccharide + 10 ppi_c\n",
      "biomass_beck ; 0.050502937891659105 DNA + 0.0840374146379437 RNA + 0.139019957911911 lipid + 0.0402851950095506 polysaccharide + 0.0501641118949985 protein --> biomass_beck\n"
     ]
    }
   ],
   "source": [
    "for my_rxn in rxn_dict:\n",
    "    new_rxn = Reaction(my_rxn)\n",
    "    original_model.add_reactions([new_rxn])\n",
    "    \n",
    "    my_rxn_dict = rxn_dict[my_rxn]\n",
    "    my_met_dict = {}\n",
    "    \n",
    "    for met_id in rxn_dict[my_rxn].keys():\n",
    "        met = original_model.metabolites.get_by_id(met_id)\n",
    "        coeff = rxn_dict[my_rxn][met_id]\n",
    "        my_met_dict[met]=coeff\n",
    "    original_model.reactions.get_by_id(my_rxn).add_metabolites(my_met_dict)\n",
    "    \n",
    "    print(my_rxn,\";\", new_rxn.reaction)"
   ]
  },
  {
   "cell_type": "code",
   "execution_count": 32,
   "metadata": {},
   "outputs": [],
   "source": [
    "ex = Reaction(\"EX_biomass_beck\")\n",
    "original_model.add_reactions([ex])\n",
    "original_model.reactions.EX_biomass_beck.add_metabolites({original_model.metabolites.biomass_beck:-1})"
   ]
  },
  {
   "cell_type": "code",
   "execution_count": 33,
   "metadata": {},
   "outputs": [
    {
     "data": {
      "text/html": [
       "\n",
       "        <table>\n",
       "            <tr>\n",
       "                <td><strong>Reaction identifier</strong></td><td>RNA</td>\n",
       "            </tr><tr>\n",
       "                <td><strong>Name</strong></td><td></td>\n",
       "            </tr><tr>\n",
       "                <td><strong>Memory address</strong></td>\n",
       "                <td>0x263185c4380</td>\n",
       "            </tr><tr>\n",
       "                <td><strong>Stoichiometry</strong></td>\n",
       "                <td>\n",
       "                    <p style='text-align:right'>2.0262150129207 atp_c + 3.1523397366045 ctp_c + 2.25131542077898 gtp_c + 2.57012982969582 utp_c --> RNA + 10 ppi_c</p>\n",
       "                    <p style='text-align:right'>2.0262150129207 ATP C10H12N5O13P3 + 3.1523397366045 CTP C9H12N3O14P3 + 2.25131542077898 GTP C10H12N5O14P3 + 2.57012982969582 UTP C9H11N2O15P3 --> + 10 Diphosphate</p>\n",
       "                </td>\n",
       "            </tr><tr>\n",
       "                <td><strong>GPR</strong></td><td></td>\n",
       "            </tr><tr>\n",
       "                <td><strong>Lower bound</strong></td><td>0.0</td>\n",
       "            </tr><tr>\n",
       "                <td><strong>Upper bound</strong></td><td>1000.0</td>\n",
       "            </tr>\n",
       "        </table>\n",
       "        "
      ],
      "text/plain": [
       "<Reaction RNA at 0x263185c4380>"
      ]
     },
     "execution_count": 33,
     "metadata": {},
     "output_type": "execute_result"
    }
   ],
   "source": [
    "original_model.reactions.RNA"
   ]
  },
  {
   "cell_type": "code",
   "execution_count": 34,
   "metadata": {},
   "outputs": [
    {
     "data": {
      "text/html": [
       "<strong><em>Optimal</em> solution with objective value 635.371</strong><br><div>\n",
       "<style scoped>\n",
       "    .dataframe tbody tr th:only-of-type {\n",
       "        vertical-align: middle;\n",
       "    }\n",
       "\n",
       "    .dataframe tbody tr th {\n",
       "        vertical-align: top;\n",
       "    }\n",
       "\n",
       "    .dataframe thead th {\n",
       "        text-align: right;\n",
       "    }\n",
       "</style>\n",
       "<table border=\"1\" class=\"dataframe\">\n",
       "  <thead>\n",
       "    <tr style=\"text-align: right;\">\n",
       "      <th></th>\n",
       "      <th>fluxes</th>\n",
       "      <th>reduced_costs</th>\n",
       "    </tr>\n",
       "  </thead>\n",
       "  <tbody>\n",
       "    <tr>\n",
       "      <th>CYTDK2</th>\n",
       "      <td>0.000000</td>\n",
       "      <td>2.939871e-13</td>\n",
       "    </tr>\n",
       "    <tr>\n",
       "      <th>XPPT</th>\n",
       "      <td>0.000000</td>\n",
       "      <td>-2.000000e+00</td>\n",
       "    </tr>\n",
       "    <tr>\n",
       "      <th>HXPRT</th>\n",
       "      <td>0.000000</td>\n",
       "      <td>1.260000e+02</td>\n",
       "    </tr>\n",
       "    <tr>\n",
       "      <th>NDPK5</th>\n",
       "      <td>0.000000</td>\n",
       "      <td>-2.000000e+00</td>\n",
       "    </tr>\n",
       "    <tr>\n",
       "      <th>SHK3Dr</th>\n",
       "      <td>0.464866</td>\n",
       "      <td>-2.000000e+00</td>\n",
       "    </tr>\n",
       "    <tr>\n",
       "      <th>...</th>\n",
       "      <td>...</td>\n",
       "      <td>...</td>\n",
       "    </tr>\n",
       "    <tr>\n",
       "      <th>protein</th>\n",
       "      <td>0.056691</td>\n",
       "      <td>-2.000000e+00</td>\n",
       "    </tr>\n",
       "    <tr>\n",
       "      <th>lipid</th>\n",
       "      <td>0.157108</td>\n",
       "      <td>-2.000000e+00</td>\n",
       "    </tr>\n",
       "    <tr>\n",
       "      <th>polysaccharide</th>\n",
       "      <td>0.045527</td>\n",
       "      <td>-2.000000e+00</td>\n",
       "    </tr>\n",
       "    <tr>\n",
       "      <th>biomass_beck</th>\n",
       "      <td>1.130109</td>\n",
       "      <td>-2.000000e+00</td>\n",
       "    </tr>\n",
       "    <tr>\n",
       "      <th>EX_biomass_beck</th>\n",
       "      <td>1.130109</td>\n",
       "      <td>-2.000000e+00</td>\n",
       "    </tr>\n",
       "  </tbody>\n",
       "</table>\n",
       "<p>2722 rows × 2 columns</p>\n",
       "</div>"
      ],
      "text/plain": [
       "<Solution 635.371 at 0x26318231910>"
      ]
     },
     "execution_count": 34,
     "metadata": {},
     "output_type": "execute_result"
    }
   ],
   "source": [
    "original_model.objective = \"biomass_beck\"\n",
    "pfba_cobra(original_model)"
   ]
  },
  {
   "cell_type": "code",
   "execution_count": 35,
   "metadata": {},
   "outputs": [
    {
     "data": {
      "text/html": [
       "<h3>Objective</h3><p>1.0 biomass_beck = 1.1301093031806133</p><h4>Uptake</h4><table border=\"1\" class=\"dataframe\">\n",
       "  <thead>\n",
       "    <tr style=\"text-align: right;\">\n",
       "      <th>Metabolite</th>\n",
       "      <th>Reaction</th>\n",
       "      <th>Flux</th>\n",
       "      <th>C-Number</th>\n",
       "      <th>C-Flux</th>\n",
       "    </tr>\n",
       "  </thead>\n",
       "  <tbody>\n",
       "    <tr>\n",
       "      <td>glc__D_e</td>\n",
       "      <td>EX_glc__D_e</td>\n",
       "      <td>10</td>\n",
       "      <td>6</td>\n",
       "      <td>100.00%</td>\n",
       "    </tr>\n",
       "    <tr>\n",
       "      <td>nh4_e</td>\n",
       "      <td>EX_nh4_e</td>\n",
       "      <td>11.41</td>\n",
       "      <td>0</td>\n",
       "      <td>0.00%</td>\n",
       "    </tr>\n",
       "    <tr>\n",
       "      <td>o2_e</td>\n",
       "      <td>EX_o2_e</td>\n",
       "      <td>12.49</td>\n",
       "      <td>0</td>\n",
       "      <td>0.00%</td>\n",
       "    </tr>\n",
       "    <tr>\n",
       "      <td>pi_e</td>\n",
       "      <td>EX_pi_e</td>\n",
       "      <td>1.174</td>\n",
       "      <td>0</td>\n",
       "      <td>0.00%</td>\n",
       "    </tr>\n",
       "    <tr>\n",
       "      <td>so4_e</td>\n",
       "      <td>EX_so4_e</td>\n",
       "      <td>0.2268</td>\n",
       "      <td>0</td>\n",
       "      <td>0.00%</td>\n",
       "    </tr>\n",
       "  </tbody>\n",
       "</table><h4>Secretion</h4><table border=\"1\" class=\"dataframe\">\n",
       "  <thead>\n",
       "    <tr style=\"text-align: right;\">\n",
       "      <th>Metabolite</th>\n",
       "      <th>Reaction</th>\n",
       "      <th>Flux</th>\n",
       "      <th>C-Number</th>\n",
       "      <th>C-Flux</th>\n",
       "    </tr>\n",
       "  </thead>\n",
       "  <tbody>\n",
       "    <tr>\n",
       "      <td>biomass_beck</td>\n",
       "      <td>EX_biomass_beck</td>\n",
       "      <td>-1.13</td>\n",
       "      <td>0</td>\n",
       "      <td>0.00%</td>\n",
       "    </tr>\n",
       "    <tr>\n",
       "      <td>co2_e</td>\n",
       "      <td>EX_co2_e</td>\n",
       "      <td>-14.12</td>\n",
       "      <td>1</td>\n",
       "      <td>100.00%</td>\n",
       "    </tr>\n",
       "    <tr>\n",
       "      <td>h2o_e</td>\n",
       "      <td>EX_h2o_e</td>\n",
       "      <td>-43.28</td>\n",
       "      <td>0</td>\n",
       "      <td>0.00%</td>\n",
       "    </tr>\n",
       "    <tr>\n",
       "      <td>h_e</td>\n",
       "      <td>EX_h_e</td>\n",
       "      <td>-9.743</td>\n",
       "      <td>0</td>\n",
       "      <td>0.00%</td>\n",
       "    </tr>\n",
       "  </tbody>\n",
       "</table>"
      ],
      "text/plain": [
       "<cobra.summary.model_summary.ModelSummary at 0x26318230f20>"
      ]
     },
     "execution_count": 35,
     "metadata": {},
     "output_type": "execute_result"
    }
   ],
   "source": [
    "original_model.summary()"
   ]
  },
  {
   "cell_type": "code",
   "execution_count": null,
   "metadata": {},
   "outputs": [],
   "source": []
  }
 ],
 "metadata": {
  "kernelspec": {
   "display_name": "Python [conda env:BioModTool_conda_env]",
   "language": "python",
   "name": "conda-env-BioModTool_conda_env-py"
  },
  "language_info": {
   "codemirror_mode": {
    "name": "ipython",
    "version": 3
   },
   "file_extension": ".py",
   "mimetype": "text/x-python",
   "name": "python",
   "nbconvert_exporter": "python",
   "pygments_lexer": "ipython3",
   "version": "3.11.4"
  }
 },
 "nbformat": 4,
 "nbformat_minor": 2
}
